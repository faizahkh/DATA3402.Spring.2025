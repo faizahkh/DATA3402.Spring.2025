{
 "cells": [
  {
   "cell_type": "markdown",
   "metadata": {},
   "source": [
    "## Lab 2- Tic Tac Toe\n",
    "\n",
    "In this lab your will build a n x n Tic Tac Toe game. As you do the exercises, make sure your solutions work for any size Tic Tac Toe game. "
   ]
  },
  {
   "cell_type": "markdown",
   "metadata": {},
   "source": [
    "*Exercise 1:* Write a function that creates an n by n matrix (of list of lists) which will represent the state of a Tie Tac Toe game. Let 0, 1, and 2 represent empty, \"X\", and \"O\", respectively.\n"
   ]
  },
  {
   "cell_type": "code",
   "execution_count": 4,
   "metadata": {},
   "outputs": [],
   "source": [
    "def create_tic_tac_toe_board(n):\n",
    "    return [[0 for _ in range(n)] for _ in range(n)]"
   ]
  },
  {
   "cell_type": "code",
   "execution_count": 7,
   "metadata": {},
   "outputs": [
    {
     "name": "stdout",
     "output_type": "stream",
     "text": [
      "[0, 0, 0]\n",
      "[0, 0, 0]\n",
      "[0, 0, 0]\n"
     ]
    }
   ],
   "source": [
    "n = 3 \n",
    "board = create_tic_tac_toe_board(n)\n",
    "for row in board:\n",
    "    print(row)"
   ]
  },
  {
   "cell_type": "markdown",
   "metadata": {},
   "source": [
    "*Exercise 2:* Write a function that takes 2 integers `n` and `m` as input and draws a `n` by `m` game board. For example the following is a 3x3 board:\n",
    "```\n",
    "   --- --- --- \n",
    "  |   |   |   | \n",
    "   --- --- ---  \n",
    "  |   |   |   | \n",
    "   --- --- ---  \n",
    "  |   |   |   | \n",
    "   --- --- --- \n",
    "   ```"
   ]
  },
  {
   "cell_type": "code",
   "execution_count": 13,
   "metadata": {},
   "outputs": [],
   "source": [
    "def create_tic_tac_toe_board(n):\n",
    "    return [[0 for _ in range(n)] for _ in range(n)]\n",
    "\n",
    "def draw_game_board(n, m):\n",
    "    for i in range(n):\n",
    "        print(\" | \".join([\" \"] * m))\n",
    "        if i < n - 1:\n",
    "            print(\"-\" * (m * 4 - 1))"
   ]
  },
  {
   "cell_type": "code",
   "execution_count": 16,
   "metadata": {},
   "outputs": [
    {
     "name": "stdout",
     "output_type": "stream",
     "text": [
      "  |   |  \n",
      "-----------\n",
      "  |   |  \n",
      "-----------\n",
      "  |   |  \n"
     ]
    }
   ],
   "source": [
    "n = 3 \n",
    "board = create_tic_tac_toe_board(n)\n",
    "\n",
    "\n",
    "draw_game_board(3, 3)"
   ]
  },
  {
   "cell_type": "markdown",
   "metadata": {},
   "source": [
    "*Exercise 3:* Modify exercise 2, so that it takes a matrix of the form from exercise 1 and draws a tic-tac-tie board with \"X\"s and \"O\"s.  "
   ]
  },
  {
   "cell_type": "code",
   "execution_count": 34,
   "metadata": {},
   "outputs": [],
   "source": [
    "def draw_game_board(matrix):\n",
    "    symbols = {0: \" \", 1: \"X\", 2: \"O\"}\n",
    "    n = len(matrix)\n",
    "    columns = \"  \" + \"  \".join(string.ascii_uppercase[:n])\n",
    "    print(columns)\n",
    "    for i in range(n):\n",
    "        row_label = str(i + 1)\n",
    "        row_content = \" | \".join([symbols[cell] for cell in matrix[i]])\n",
    "        print(f\"{row_label} {row_content}\")\n",
    "        if i < n - 1:\n",
    "            print(\"  \" + \"-\" * (n * 4 - 1))\n"
   ]
  },
  {
   "cell_type": "code",
   "execution_count": 35,
   "metadata": {},
   "outputs": [
    {
     "name": "stdout",
     "output_type": "stream",
     "text": [
      "  A  B  C\n",
      "1 X |   | O\n",
      "  -----------\n",
      "2   | X |  \n",
      "  -----------\n",
      "3 O |   | X\n"
     ]
    }
   ],
   "source": [
    "def test_draw_game_board():\n",
    "    board = [[1, 0, 2], \n",
    "             [0, 1, 0], \n",
    "             [2, 0, 1]]\n",
    "    draw_game_board(board)\n",
    "\n",
    "test_draw_game_board()"
   ]
  },
  {
   "cell_type": "markdown",
   "metadata": {},
   "source": [
    "*Exercise 4:* Write a function that takes a `n` by `n` matrix representing a tic-tac-toe game, and returns -1, 0, 1, or 2 indicating the game is incomplete, the game is a draw, player 1 has won, or player 2 has one, respectively. Here are some example inputs you can use to test your code:"
   ]
  },
  {
   "cell_type": "code",
   "execution_count": 33,
   "metadata": {},
   "outputs": [],
   "source": [
    "def check_game_status(matrix):\n",
    "    n = len(matrix)\n",
    "\n",
    "   \n",
    "    for i in range(n):\n",
    "        if all(matrix[i][j] == 1 for j in range(n)) or all(matrix[j][i] == 1 for j in range(n)):\n",
    "            return 1  \n",
    "        if all(matrix[i][j] == 2 for j in range(n)) or all(matrix[j][i] == 2 for j in range(n)):\n",
    "            return 2 \n",
    "\n",
    "\n",
    "    if all(matrix[i][i] == 1 for i in range(n)) or all(matrix[i][n - 1 - i] == 1 for i in range(n)):\n",
    "        return 1  \n",
    "    if all(matrix[i][i] == 2 for i in range(n)) or all(matrix[i][n - 1 - i] == 2 for i in range(n)):\n",
    "        return 2 \n",
    "\n",
    "   \n",
    "    if any(matrix[i][j] == 0 for i in range(n) for j in range(n)):\n",
    "        return -1 \n",
    "\n",
    "    return 0  "
   ]
  },
  {
   "cell_type": "code",
   "execution_count": null,
   "metadata": {
    "collapsed": true
   },
   "outputs": [],
   "source": [
    "winner_is_2 = [[2, 2, 0],\n",
    "\t[2, 1, 0],\n",
    "\t[2, 1, 1]]\n",
    "\n",
    "winner_is_1 = [[1, 2, 0],\n",
    "\t[2, 1, 0],\n",
    "\t[2, 1, 1]]\n",
    "\n",
    "winner_is_also_1 = [[0, 1, 0],\n",
    "\t[2, 1, 0],\n",
    "\t[2, 1, 1]]\n",
    "\n",
    "no_winner = [[1, 2, 0],\n",
    "\t[2, 1, 0],\n",
    "\t[2, 1, 2]]\n",
    "\n",
    "also_no_winner = [[1, 2, 0],\n",
    "\t[2, 1, 0],\n",
    "\t[2, 1, 0]]"
   ]
  },
  {
   "cell_type": "code",
   "execution_count": 36,
   "metadata": {},
   "outputs": [],
   "source": [
    "# *Exercise 5:* Write a function that takes a game board, player number, and `(x,y)` coordinates and places \"X\" or \"O\" in the correct location of the game board. Make sure that you only allow filling previously empty locations. Return `True` or `False` to indicate successful placement of \"X\" or \"O\"."
   ]
  },
  {
   "cell_type": "code",
   "execution_count": 21,
   "metadata": {},
   "outputs": [],
   "source": [
    "import string\n",
    "def create_tic_tac_toe_board(n):\n",
    "    return[[0 for _ in range(n)] for _ in range(n)]\n",
    "def place_move(matrix, player, x,y):\n",
    "    if 0<= x < len(matrix) and 0 <= y < len(matrix) and matrix[x][y] == 0:\n",
    "        matrix[x][y] = player\n",
    "        return True\n",
    "    return False"
   ]
  },
  {
   "cell_type": "code",
   "execution_count": 37,
   "metadata": {},
   "outputs": [
    {
     "name": "stdout",
     "output_type": "stream",
     "text": [
      "Exercise 5 tests passed!\n"
     ]
    }
   ],
   "source": [
    "def test_place_move():\n",
    "    board = create_tic_tac_toe_board(3)\n",
    "\n",
    "   \n",
    "    assert place_move(board, 1, 0, 0) == True  \n",
    "    assert board[0][0] == 1  \n",
    "\n",
    "    assert place_move(board, 2, 1, 1) == True  \n",
    "    assert board[1][1] == 2\n",
    "\n",
    "\n",
    "    assert place_move(board, 1, 0, 0) == False\n",
    "\n",
    "    assert place_move(board, 1, 3, 3) == False\n",
    "\n",
    "    print(\"Exercise 5 tests passed!\")\n",
    "\n",
    "test_place_move()\n"
   ]
  },
  {
   "cell_type": "markdown",
   "metadata": {},
   "source": [
    "*Exercise 6:* Modify Exercise 3 to show column and row labels so that players can specify location using \"A2\" or \"C1\"."
   ]
  },
  {
   "cell_type": "code",
   "execution_count": 23,
   "metadata": {},
   "outputs": [],
   "source": [
    "def draw_game_board(matrix):\n",
    "    symbols = {0: \" \", 1: \"X\", 2: \"O\"}\n",
    "    n = len(matrix)\n",
    "    columns = \"  \" + \"  \".join(string.ascii_uppercase[:n])\n",
    "    print(columns)\n",
    "    for i in range(n):\n",
    "        row_label = str(i + 1)\n",
    "        row_content = \" | \".join([symbols[cell] for cell in matrix[i]])\n",
    "        print(f\"{row_label} {row_content}\")\n",
    "        if i < n - 1:\n",
    "            print(\"  \" + \"-\" * (n * 4 - 1))"
   ]
  },
  {
   "cell_type": "code",
   "execution_count": 38,
   "metadata": {},
   "outputs": [
    {
     "name": "stdout",
     "output_type": "stream",
     "text": [
      "  A  B  C\n",
      "1 X |   | O\n",
      "  -----------\n",
      "2   | X |  \n",
      "  -----------\n",
      "3 O |   | X\n"
     ]
    }
   ],
   "source": [
    "def test_draw_labeled_board():\n",
    "    board = [[1, 0, 2], \n",
    "             [0, 1, 0], \n",
    "             [2, 0, 1]]\n",
    "    \n",
    "    draw_game_board(board) \n",
    "\n",
    "test_draw_labeled_board()\n"
   ]
  },
  {
   "cell_type": "markdown",
   "metadata": {},
   "source": [
    "*Exercise 7:* Write a function that takes a board, player number, and location specified as in exercise 6 and then calls exercise 5 to correctly modify the board.  "
   ]
  },
  {
   "cell_type": "code",
   "execution_count": 25,
   "metadata": {},
   "outputs": [],
   "source": [
    "def parse_location(location):\n",
    "    \n",
    "    col = string.ascii_uppercase.index(location[0].upper())\n",
    "    row = int(location[1:]) - 1\n",
    "    return row, col\n",
    "\n",
    "def place_move_with_label(matrix, player, location):\n",
    "    try:\n",
    "        x, y = parse_location(location)\n",
    "        return place_move(matrix, player, x, y)\n",
    "    except (IndexError, ValueError):\n",
    "        return False"
   ]
  },
  {
   "cell_type": "code",
   "execution_count": 40,
   "metadata": {},
   "outputs": [
    {
     "name": "stdout",
     "output_type": "stream",
     "text": [
      "Exercise 7 tests passed!\n"
     ]
    }
   ],
   "source": [
    "\n",
    "def test_labeled_place_move():\n",
    "    board = create_tic_tac_toe_board(3)\n",
    "\n",
    "    assert labeled_place_move(board, 1, \"A1\") == True  \n",
    "    assert board[0][0] == 1  \n",
    "\n",
    "    assert labeled_place_move(board, 2, \"B2\") == True  \n",
    "    assert board[1][1] == 2  \n",
    "\n",
    "    assert labeled_place_move(board, 1, \"A1\") == False  \n",
    "    assert labeled_place_move(board, 2, \"Z9\") == False \n",
    "\n",
    "    print(\"Exercise 7 tests passed!\")\n",
    "\n",
    "test_labeled_place_move()\n"
   ]
  },
  {
   "cell_type": "markdown",
   "metadata": {},
   "source": [
    "*Exercise 8:* Write a function is called with a board and player number, takes input from the player using python's `input`, and modifies the board using your function from exercise 7. Note that you should keep asking for input until you have gotten a valid input that results in a valid move."
   ]
  },
  {
   "cell_type": "code",
   "execution_count": 44,
   "metadata": {},
   "outputs": [],
   "source": [
    "def player_turn(matrix, player):\n",
    "    while True:\n",
    "        location = input(f\"Player {player} ({'X' if player == 1 else 'O'}), enter your move (e.g., A2): \")\n",
    "        if place_move_with_label(matrix, player, location):\n",
    "            break\n",
    "        print(\"Invalid move. Try again.\")"
   ]
  },
  {
   "cell_type": "code",
   "execution_count": 46,
   "metadata": {},
   "outputs": [
    {
     "name": "stdout",
     "output_type": "stream",
     "text": [
      "Manually enter 'A1', then an invalid move (like 'Z9'), then 'B2'.\n",
      "Player 1 (X), enter your move (e.g., A2): A2\n",
      "  A  B  C\n",
      "1   |   |  \n",
      "  -----------\n",
      "2 X |   |  \n",
      "  -----------\n",
      "3   |   |  \n"
     ]
    }
   ],
   "source": [
    "def test_player_turn():\n",
    "    board = create_tic_tac_toe_board(3)\n",
    "    \n",
    "    print(\"Manually enter 'A1', then an invalid move (like 'Z9'), then 'B2'.\")\n",
    "    player_turn(board, 1)  \n",
    "    draw_game_board(board)  \n",
    "\n",
    "test_player_turn()"
   ]
  },
  {
   "cell_type": "markdown",
   "metadata": {},
   "source": [
    "*Exercise 9:* Use all of the previous exercises to implement a full tic-tac-toe game, where an appropriate board is drawn, 2 players are repeatedly asked for a location coordinates of where they wish to place a mark, and the game status is checked until a player wins or a draw occurs."
   ]
  },
  {
   "cell_type": "code",
   "execution_count": 49,
   "metadata": {},
   "outputs": [],
   "source": [
    "def check_game_status(matrix):\n",
    "    n = len(matrix)\n",
    "    \n",
    "    for i in range(n):\n",
    "        if all(matrix[i][j] == 1 for j in range(n)) or all(matrix[j][i] == 1 for j in range(n)):\n",
    "            return 1\n",
    "        if all(matrix[i][j] == 2 for j in range(n)) or all(matrix[j][i] == 2 for j in range(n)):\n",
    "            return 2\n",
    "\n",
    "    if all(matrix[i][i] == 1 for i in range(n)) or all(matrix[i][n - 1 - i] == 1 for i in range(n)):\n",
    "        return 1\n",
    "    if all(matrix[i][i] == 2 for i in range(n)) or all(matrix[i][n - 1 - i] == 2 for i in range(n)):\n",
    "        return 2\n",
    "    \n",
    "    if any(matrix[i][j] == 0 for i in range(n) for j in range(n)):\n",
    "        return -1\n",
    "    \n",
    "    return 0\n",
    "\n",
    "def play_game(n):\n",
    "    board = create_tic_tac_toe_board(n)\n",
    "    current_player = 1\n",
    "    while True:\n",
    "        draw_game_board(board)\n",
    "        player_turn(board, current_player)\n",
    "        status = check_game_status(board)\n",
    "        if status == 1:\n",
    "            draw_game_board(board)\n",
    "            print(\"Player 1 (X) wins!\")\n",
    "            break\n",
    "        elif status == 2:\n",
    "            draw_game_board(board)\n",
    "            print(\"Player 2 (O) wins!\")\n",
    "            break\n",
    "        elif status == 0:\n",
    "            draw_game_board(board)\n",
    "            print(\"It's a draw!\")\n",
    "            break\n",
    "        current_player = 3 - current_player"
   ]
  },
  {
   "cell_type": "code",
   "execution_count": 51,
   "metadata": {},
   "outputs": [
    {
     "name": "stdout",
     "output_type": "stream",
     "text": [
      "Manually play a full game!\n"
     ]
    },
    {
     "ename": "TypeError",
     "evalue": "object of type 'int' has no len()",
     "output_type": "error",
     "traceback": [
      "\u001b[0;31m---------------------------------------------------------------------------\u001b[0m",
      "\u001b[0;31mTypeError\u001b[0m                                 Traceback (most recent call last)",
      "Cell \u001b[0;32mIn[51], line 4\u001b[0m\n\u001b[1;32m      2\u001b[0m     \u001b[38;5;28mprint\u001b[39m(\u001b[38;5;124m\"\u001b[39m\u001b[38;5;124mManually play a full game!\u001b[39m\u001b[38;5;124m\"\u001b[39m)\n\u001b[1;32m      3\u001b[0m     check_game_status(\u001b[38;5;241m3\u001b[39m) \n\u001b[0;32m----> 4\u001b[0m \u001b[43mtest_check_game_status\u001b[49m\u001b[43m(\u001b[49m\u001b[43m)\u001b[49m\n",
      "Cell \u001b[0;32mIn[51], line 3\u001b[0m, in \u001b[0;36mtest_check_game_status\u001b[0;34m()\u001b[0m\n\u001b[1;32m      1\u001b[0m \u001b[38;5;28;01mdef\u001b[39;00m \u001b[38;5;21mtest_check_game_status\u001b[39m():\n\u001b[1;32m      2\u001b[0m     \u001b[38;5;28mprint\u001b[39m(\u001b[38;5;124m\"\u001b[39m\u001b[38;5;124mManually play a full game!\u001b[39m\u001b[38;5;124m\"\u001b[39m)\n\u001b[0;32m----> 3\u001b[0m     \u001b[43mcheck_game_status\u001b[49m\u001b[43m(\u001b[49m\u001b[38;5;241;43m3\u001b[39;49m\u001b[43m)\u001b[49m\n",
      "Cell \u001b[0;32mIn[49], line 2\u001b[0m, in \u001b[0;36mcheck_game_status\u001b[0;34m(matrix)\u001b[0m\n\u001b[1;32m      1\u001b[0m \u001b[38;5;28;01mdef\u001b[39;00m \u001b[38;5;21mcheck_game_status\u001b[39m(matrix):\n\u001b[0;32m----> 2\u001b[0m     n \u001b[38;5;241m=\u001b[39m \u001b[38;5;28;43mlen\u001b[39;49m\u001b[43m(\u001b[49m\u001b[43mmatrix\u001b[49m\u001b[43m)\u001b[49m\n\u001b[1;32m      4\u001b[0m     \u001b[38;5;66;03m# Check rows and columns\u001b[39;00m\n\u001b[1;32m      5\u001b[0m     \u001b[38;5;28;01mfor\u001b[39;00m i \u001b[38;5;129;01min\u001b[39;00m \u001b[38;5;28mrange\u001b[39m(n):\n",
      "\u001b[0;31mTypeError\u001b[0m: object of type 'int' has no len()"
     ]
    }
   ],
   "source": [
    "def test_check_game_status():\n",
    "    print(\"Manually play a full game!\")\n",
    "    check_game_status(3) \n",
    "test_check_game_status()"
   ]
  },
  {
   "cell_type": "markdown",
   "metadata": {},
   "source": [
    "*Exercise 10:* Test that your game works for 5x5 Tic Tac Toe.  "
   ]
  },
  {
   "cell_type": "code",
   "execution_count": 27,
   "metadata": {},
   "outputs": [
    {
     "name": "stdout",
     "output_type": "stream",
     "text": [
      "  A  B  C  D  E\n",
      "1   |   |   |   |  \n",
      "  -------------------\n",
      "2   |   |   |   |  \n",
      "  -------------------\n",
      "3   |   |   |   |  \n",
      "  -------------------\n",
      "4   |   |   |   |  \n",
      "  -------------------\n",
      "5   |   |   |   |  \n",
      "Player 1 (X), enter your move (e.g., A2): A2\n",
      "  A  B  C  D  E\n",
      "1   |   |   |   |  \n",
      "  -------------------\n",
      "2 X |   |   |   |  \n",
      "  -------------------\n",
      "3   |   |   |   |  \n",
      "  -------------------\n",
      "4   |   |   |   |  \n",
      "  -------------------\n",
      "5   |   |   |   |  \n",
      "Player 2 (O), enter your move (e.g., A2): B4\n",
      "  A  B  C  D  E\n",
      "1   |   |   |   |  \n",
      "  -------------------\n",
      "2 X |   |   |   |  \n",
      "  -------------------\n",
      "3   |   |   |   |  \n",
      "  -------------------\n",
      "4   | O |   |   |  \n",
      "  -------------------\n",
      "5   |   |   |   |  \n",
      "Player 1 (X), enter your move (e.g., A2): A1\n",
      "  A  B  C  D  E\n",
      "1 X |   |   |   |  \n",
      "  -------------------\n",
      "2 X |   |   |   |  \n",
      "  -------------------\n",
      "3   |   |   |   |  \n",
      "  -------------------\n",
      "4   | O |   |   |  \n",
      "  -------------------\n",
      "5   |   |   |   |  \n",
      "Player 2 (O), enter your move (e.g., A2): A3\n",
      "  A  B  C  D  E\n",
      "1 X |   |   |   |  \n",
      "  -------------------\n",
      "2 X |   |   |   |  \n",
      "  -------------------\n",
      "3 O |   |   |   |  \n",
      "  -------------------\n",
      "4   | O |   |   |  \n",
      "  -------------------\n",
      "5   |   |   |   |  \n",
      "Player 1 (X), enter your move (e.g., A2): B1\n",
      "  A  B  C  D  E\n",
      "1 X | X |   |   |  \n",
      "  -------------------\n",
      "2 X |   |   |   |  \n",
      "  -------------------\n",
      "3 O |   |   |   |  \n",
      "  -------------------\n",
      "4   | O |   |   |  \n",
      "  -------------------\n",
      "5   |   |   |   |  \n",
      "Player 2 (O), enter your move (e.g., A2): B5\n",
      "  A  B  C  D  E\n",
      "1 X | X |   |   |  \n",
      "  -------------------\n",
      "2 X |   |   |   |  \n",
      "  -------------------\n",
      "3 O |   |   |   |  \n",
      "  -------------------\n",
      "4   | O |   |   |  \n",
      "  -------------------\n",
      "5   | O |   |   |  \n",
      "Player 1 (X), enter your move (e.g., A2): C1\n",
      "  A  B  C  D  E\n",
      "1 X | X | X |   |  \n",
      "  -------------------\n",
      "2 X |   |   |   |  \n",
      "  -------------------\n",
      "3 O |   |   |   |  \n",
      "  -------------------\n",
      "4   | O |   |   |  \n",
      "  -------------------\n",
      "5   | O |   |   |  \n",
      "Player 2 (O), enter your move (e.g., A2): A5\n",
      "  A  B  C  D  E\n",
      "1 X | X | X |   |  \n",
      "  -------------------\n",
      "2 X |   |   |   |  \n",
      "  -------------------\n",
      "3 O |   |   |   |  \n",
      "  -------------------\n",
      "4   | O |   |   |  \n",
      "  -------------------\n",
      "5 O | O |   |   |  \n",
      "Player 1 (X), enter your move (e.g., A2): D1\n",
      "  A  B  C  D  E\n",
      "1 X | X | X | X |  \n",
      "  -------------------\n",
      "2 X |   |   |   |  \n",
      "  -------------------\n",
      "3 O |   |   |   |  \n",
      "  -------------------\n",
      "4   | O |   |   |  \n",
      "  -------------------\n",
      "5 O | O |   |   |  \n",
      "Player 2 (O), enter your move (e.g., A2): E5\n",
      "  A  B  C  D  E\n",
      "1 X | X | X | X |  \n",
      "  -------------------\n",
      "2 X |   |   |   |  \n",
      "  -------------------\n",
      "3 O |   |   |   |  \n",
      "  -------------------\n",
      "4   | O |   |   |  \n",
      "  -------------------\n",
      "5 O | O |   |   | O\n",
      "Player 1 (X), enter your move (e.g., A2): E1\n",
      "  A  B  C  D  E\n",
      "1 X | X | X | X | X\n",
      "  -------------------\n",
      "2 X |   |   |   |  \n",
      "  -------------------\n",
      "3 O |   |   |   |  \n",
      "  -------------------\n",
      "4   | O |   |   |  \n",
      "  -------------------\n",
      "5 O | O |   |   | O\n",
      "Player 1 (X) wins!\n"
     ]
    }
   ],
   "source": [
    "if __name__ == \"__main__\":\n",
    "    play_game(5)"
   ]
  },
  {
   "cell_type": "markdown",
   "metadata": {},
   "source": [
    "*Exercise 11:* (Advanced / Challenge) Develop a version of the game where one player is the computer. Note that you don't need to do an extensive seach for the best move. You can have the computer simply protect against loosing and otherwise try to win with straight or diagonal patterns."
   ]
  },
  {
   "cell_type": "code",
   "execution_count": null,
   "metadata": {
    "collapsed": true
   },
   "outputs": [],
   "source": [
    "# Write you solution here"
   ]
  },
  {
   "cell_type": "code",
   "execution_count": null,
   "metadata": {
    "collapsed": true
   },
   "outputs": [],
   "source": [
    "# Test your solution here"
   ]
  }
 ],
 "metadata": {
  "kernelspec": {
   "display_name": "Python 3 (ipykernel)",
   "language": "python",
   "name": "python3"
  },
  "language_info": {
   "codemirror_mode": {
    "name": "ipython",
    "version": 3
   },
   "file_extension": ".py",
   "mimetype": "text/x-python",
   "name": "python",
   "nbconvert_exporter": "python",
   "pygments_lexer": "ipython3",
   "version": "3.12.3"
  }
 },
 "nbformat": 4,
 "nbformat_minor": 2
}
