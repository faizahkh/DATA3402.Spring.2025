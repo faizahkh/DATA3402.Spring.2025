{
  "cells": [
    {
      "cell_type": "markdown",
      "metadata": {
        "id": "8F2G0ry3PHOv"
      },
      "source": [
        "# Lab 4- Object Oriented Programming\n",
        "\n",
        "For all of the exercises below, make sure you provide tests of your solutions.\n"
      ]
    },
    {
      "cell_type": "markdown",
      "metadata": {
        "id": "0XPsJFiqPHOx"
      },
      "source": [
        "**1**. Write a \"counter\" class that can be incremented up to a specified maximum value, will print an error if an attempt is made to increment beyond that value, and allows reseting the counter."
      ]
    },
    {
      "cell_type": "code",
      "execution_count": 1,
      "metadata": {
        "id": "qi_kEZ9KPHOx"
      },
      "outputs": [],
      "source": [
        "class Counter:\n",
        "    def __init__(self, max_value):\n",
        "        self.max_value = max_value\n",
        "        self.current = 0\n",
        "    def increment(self):\n",
        "        if self.current < self.max_value:\n",
        "            self.current += 1\n",
        "        else:\n",
        "            print(\"error: counter reached max\")\n",
        "    def reset(self):\n",
        "        self.current = 0\n",
        "    def get_value(self):\n",
        "        return self.current"
      ]
    },
    {
      "cell_type": "markdown",
      "metadata": {
        "id": "bzWSPqAGPHOx"
      },
      "source": [
        "2. Copy and paste your solution to question 1 and modify it so that all the data held by the counter is private. Implement functions to check the value of the counter, check the maximum value, and check if the counter is at the maximum."
      ]
    },
    {
      "cell_type": "code",
      "execution_count": 2,
      "metadata": {
        "id": "chRTFKUiPHOy"
      },
      "outputs": [],
      "source": [
        "class Counter:\n",
        "    def __init__(self, max_value):\n",
        "        self.__value = 0\n",
        "        self.__max_value = max_value\n",
        "\n",
        "    def increment(self):\n",
        "        if self.__value < self.__max_value:\n",
        "            self.__value += 1\n",
        "        else:\n",
        "            print(\"Error: Maximum value reached.\")\n",
        "\n",
        "    def reset(self):\n",
        "        self.__value = 0\n",
        "\n",
        "    def get_value(self):\n",
        "        return self.__value\n",
        "\n",
        "    def get_max_value(self):\n",
        "        return self.__max_value\n",
        "\n",
        "    def is_at_max(self):\n",
        "        return self.__value == self.__max_value"
      ]
    },
    {
      "cell_type": "markdown",
      "metadata": {
        "id": "VEtvFss4PHOy"
      },
      "source": [
        "3. Implement a class to represent a rectangle, holding the length, width, and $x$ and $y$ coordinates of a corner of the object. Implement functions that compute the area and perimeter of the rectangle. Make all data members private and privide accessors to retrieve values of data members."
      ]
    },
    {
      "cell_type": "code",
      "execution_count": 3,
      "metadata": {
        "id": "H1iUIB35PHOy"
      },
      "outputs": [],
      "source": [
        "class Rectangle:\n",
        "    def __init__(self, length, width, x, y):\n",
        "        self.__length = length\n",
        "        self.__width = width\n",
        "        self.__x = x\n",
        "        self.__y = y\n",
        "\n",
        "    def area(self):\n",
        "        return self.__length * self.__width\n",
        "\n",
        "    def perimeter(self):\n",
        "        return 2 * (self.__length + self.__width)\n",
        "\n",
        "    def get_length(self):\n",
        "        return self.__length\n",
        "\n",
        "    def get_width(self):\n",
        "        return self.__width\n",
        "\n",
        "    def get_x(self):\n",
        "        return self.__x\n",
        "\n",
        "    def get_y(self):\n",
        "        return self.__y"
      ]
    },
    {
      "cell_type": "markdown",
      "metadata": {
        "id": "QS-fj9YxPHOy"
      },
      "source": [
        "4. Implement a class to represent a circle, holding the radius and $x$ and $y$ coordinates of center of the object. Implement functions that compute the area and perimeter of the rectangle. Make all data members private and privide accessors to retrieve values of data members."
      ]
    },
    {
      "cell_type": "code",
      "execution_count": 4,
      "metadata": {
        "id": "oL4orGhjPHOz"
      },
      "outputs": [],
      "source": [
        "import math\n",
        "class Circle:\n",
        "    def __init__(self, radius, x, y):\n",
        "        self.__radius = radius\n",
        "        self.__x = x\n",
        "        self.__y = y\n",
        "\n",
        "    def area(self):\n",
        "        return math.pi * self.__radius ** 2\n",
        "\n",
        "    def perimeter(self):\n",
        "        return 2 * math.pi * self.__radius\n",
        "\n",
        "    def get_radius(self):\n",
        "        return self.__radius\n",
        "\n",
        "    def get_x(self):\n",
        "        return self.__x\n",
        "\n",
        "    def get_y(self):\n",
        "        return self.__y\n"
      ]
    },
    {
      "cell_type": "markdown",
      "metadata": {
        "id": "dltW3kRUPHOz"
      },
      "source": [
        "5. Implement a common base class for the classes implemented in 3 and 4 above which implements all common methods as not implemented functions (virtual). Re-implement your regtangle and circule classes to inherit from the base class and overload the functions accordingly."
      ]
    },
    {
      "cell_type": "code",
      "execution_count": 5,
      "metadata": {
        "id": "HFMECYw8PHOz"
      },
      "outputs": [],
      "source": [
        "class Shape:\n",
        "    def area(self):\n",
        "        raise NotImplementedError\n",
        "\n",
        "    def perimeter(self):\n",
        "        raise NotImplementedError\n",
        "\n",
        "class Rectangle(Shape):\n",
        "    def __init__(self, length, width, x, y):\n",
        "        self.__length = length\n",
        "        self.__width = width\n",
        "        self.__x = x\n",
        "        self.__y = y\n",
        "\n",
        "    def area(self):\n",
        "        return self.__length * self.__width\n",
        "\n",
        "    def perimeter(self):\n",
        "        return 2 * (self.__length + self.__width)\n",
        "\n",
        "class Circle(Shape):\n",
        "    def __init__(self, radius, x, y):\n",
        "        self.__radius = radius\n",
        "        self.__x = x\n",
        "        self.__y = y\n",
        "\n",
        "    def area(self):\n",
        "        return math.pi * self.__radius ** 2\n",
        "\n",
        "    def perimeter(self):\n",
        "        return 2 * math.pi * self.__radius\n"
      ]
    },
    {
      "cell_type": "markdown",
      "metadata": {
        "id": "8YbXLVdmPHOz"
      },
      "source": [
        "6. Implement a triangle class analogous to the rectangle and circle in question 5."
      ]
    },
    {
      "cell_type": "code",
      "execution_count": 6,
      "metadata": {
        "id": "RLR4HvebPHOz"
      },
      "outputs": [],
      "source": [
        "class Triangle(Shape):\n",
        "    def __init__(self, p1, p2, p3):\n",
        "        self.__p1 = p1\n",
        "        self.__p2 = p2\n",
        "        self.__p3 = p3\n",
        "\n",
        "    def area(self):\n",
        "        x1, y1 = self.__p1\n",
        "        x2, y2 = self.__p2\n",
        "        x3, y3 = self.__p3\n",
        "        return abs(x1*(y2 - y3) + x2*(y3 - y1) + x3*(y1 - y2)) / 2\n",
        "\n",
        "    def perimeter(self):\n",
        "        def dist(a, b): return math.hypot(b[0] - a[0], b[1] - a[1])\n",
        "        return dist(self.__p1, self.__p2) + dist(self.__p2, self.__p3) + dist(self.__p3, self.__p1)\n",
        "\n",
        "    def boundary_points(self):\n",
        "        return [self.__p1, self.__p2, self.__p3][:16]\n",
        "\n",
        "    def contains(self, x, y):\n",
        "        def area(a, b, c):\n",
        "            return abs((a[0]*(b[1]-c[1]) + b[0]*(c[1]-a[1]) + c[0]*(a[1]-b[1])) / 2.0)\n",
        "        A = self.area()\n",
        "        A1 = area((x, y), self.__p2, self.__p3)\n",
        "        A2 = area(self.__p1, (x, y), self.__p3)\n",
        "        A3 = area(self.__p1, self.__p2, (x, y))\n",
        "        return abs(A - (A1 + A2 + A3)) < 1e-5\n",
        "\n",
        "    def overlaps(self, other):\n",
        "        for px, py in self.boundary_points():\n",
        "            if other.contains(px, py):\n",
        "                return True\n",
        "        return False"
      ]
    },
    {
      "cell_type": "markdown",
      "metadata": {
        "id": "nD--jMc7PHOz"
      },
      "source": [
        "7. Add a function to the object classes, including the base, that returns a list of up to 16 pairs of  $x$ and $y$ points on the parameter of the object."
      ]
    },
    {
      "cell_type": "code",
      "execution_count": 7,
      "metadata": {
        "id": "ptJbeCwNPHOz"
      },
      "outputs": [],
      "source": [
        "class Rectangle(Shape):\n",
        "    def __init__(self, length, width, x, y):\n",
        "        self.__length = length\n",
        "        self.__width = width\n",
        "        self.__x = x\n",
        "        self.__y = y\n",
        "\n",
        "    def area(self):\n",
        "        return self.__length * self.__width\n",
        "\n",
        "    def perimeter(self):\n",
        "        return 2 * (self.__length + self.__width)\n",
        "\n",
        "    def boundary_points(self):\n",
        "        points = []\n",
        "        x1, y1 = self.__x, self.__y\n",
        "        x2, y2 = x1 + self.__length, y1\n",
        "        x3, y3 = x2, y1 + self.__width\n",
        "        x4, y4 = x1, y1 + self.__width\n",
        "        corners = [(x1, y1), (x2, y2), (x3, y3), (x4, y4)]\n",
        "        for i in range(16):\n",
        "            points.append(corners[i % 4])\n",
        "        return points[:16]\n",
        "\n",
        "    def contains(self, x, y):\n",
        "        return (self.__x <= x <= self.__x + self.__length and\n",
        "                self.__y <= y <= self.__y + self.__width)\n"
      ]
    },
    {
      "cell_type": "markdown",
      "metadata": {
        "id": "G9MBK-F5PHOz"
      },
      "source": [
        "8. Add a function to the object classes, including the base, that tests if a given set of $x$ and $y$ coordinates are inside of the object. You'll have to think through how to determine if a set of coordinates are inside an object for each object type."
      ]
    },
    {
      "cell_type": "code",
      "execution_count": 8,
      "metadata": {
        "id": "COunjroUPHOz"
      },
      "outputs": [],
      "source": [
        "def overlaps(self, other):\n",
        "    for x, y in self.boundary_points():\n",
        "        if other.contains(x, y):\n",
        "            return True\n",
        "    return False\n",
        "def overlaps(self, other):\n",
        "    for x, y in self.boundary_points():\n",
        "        if other.contains(x, y):\n",
        "            return True\n",
        "    return False"
      ]
    },
    {
      "cell_type": "markdown",
      "metadata": {
        "id": "NIK7l3NTPHO0"
      },
      "source": [
        "9. Add a function in the base class of the object classes that returns true/false testing that the object overlaps with another object."
      ]
    },
    {
      "cell_type": "code",
      "execution_count": 9,
      "metadata": {
        "id": "5kg8ICNmPHO0"
      },
      "outputs": [],
      "source": [
        "class ShapeList:\n",
        "    def __init__(self):\n",
        "        self.__shapes = []\n",
        "\n",
        "    def add(self, shape):\n",
        "        self.__shapes.append(shape)\n",
        "\n",
        "    def total_area(self):\n",
        "        return sum(shape.area() for shape in self.__shapes)\n",
        "\n",
        "    def total_perimeter(self):\n",
        "        return sum(shape.perimeter() for shape in self.__shapes)\n",
        "\n",
        "    def all_shapes(self):\n",
        "        return self.__shapes\n"
      ]
    },
    {
      "cell_type": "markdown",
      "metadata": {
        "id": "fBPvQX6fPHO0"
      },
      "source": [
        "10. Copy the `Canvas` class from lecture to in a python file creating a `paint` module. Copy your classes from above into the module and implement paint functions. Implement a `CompoundShape` class. Create a simple drawing demonstrating that all of your classes are working."
      ]
    },
    {
      "cell_type": "code",
      "execution_count": 10,
      "metadata": {
        "id": "tlYFuAdXPHO0"
      },
      "outputs": [],
      "source": [
        "    def overlaps_any(self, other_shape):\n",
        "        for shape in self.__shapes:\n",
        "            if shape.overlaps(other_shape):\n",
        "                return True\n",
        "        return False"
      ]
    },
    {
      "cell_type": "markdown",
      "metadata": {
        "id": "F0_taM_1PHO0"
      },
      "source": [
        "11. Create a `RasterDrawing` class. Demonstrate that you can create a drawing made of several shapes, paint the drawing, modify the drawing, and paint it again."
      ]
    },
    {
      "cell_type": "code",
      "execution_count": 11,
      "metadata": {
        "id": "w_GaOyjMPHO0"
      },
      "outputs": [],
      "source": [
        "def load_shapes(filename):\n",
        "    shape_list = ShapeList()\n",
        "    with open(filename, 'r') as file:\n",
        "        for line in file:\n",
        "            parts = line.strip().split()\n",
        "            shape_type = parts[0].lower()\n",
        "            if shape_type == 'rectangle':\n",
        "                length, width, x, y = map(float, parts[1:])\n",
        "                shape = Rectangle(length, width, x, y)\n",
        "            elif shape_type == 'circle':\n",
        "                radius, x, y = map(float, parts[1:])\n",
        "                shape = Circle(radius, x, y)\n",
        "            elif shape_type == 'triangle':\n",
        "                p1 = (float(parts[1]), float(parts[2]))\n",
        "                p2 = (float(parts[3]), float(parts[4]))\n",
        "                p3 = (float(parts[5]), float(parts[6]))\n",
        "                shape = Triangle(p1, p2, p3)\n",
        "            else:\n",
        "                continue\n",
        "            shape_list.add(shape)\n",
        "    return shape_list\n"
      ]
    },
    {
      "cell_type": "markdown",
      "metadata": {
        "id": "wD9kdXbOPHO0"
      },
      "source": [
        "12. Implement the ability to load/save raster drawings and demonstate that your method works. One way to implement this ability:\n",
        "\n",
        "   * Overload `__repr__` functions of all objects to return strings of the python code that would construct the object.\n",
        "   \n",
        "   * In the save method of raster drawing class, store the representations into the file.\n",
        "   * Write a loader function that reads the file and uses `eval` to instantiate the object.\n",
        "\n",
        "For example:"
      ]
    },
    {
      "cell_type": "code",
      "execution_count": null,
      "metadata": {
        "id": "Rwp2qAQhPHO0"
      },
      "outputs": [],
      "source": [
        "class foo:\n",
        "    def __init__(self,a,b=None):\n",
        "        self.a=a\n",
        "        self.b=b\n",
        "\n",
        "    def __repr__(self):\n",
        "        return \"foo(\"+repr(self.a)+\",\"+repr(self.b)+\")\"\n",
        "\n",
        "    def save(self,filename):\n",
        "        f=open(filename,\"w\")\n",
        "        f.write(self.__repr__())\n",
        "        f.close()\n",
        "\n",
        "\n",
        "def foo_loader(filename):\n",
        "    f=open(filename,\"r\")\n",
        "    tmp=eval(f.read())\n",
        "    f.close()\n",
        "    return tmp\n"
      ]
    },
    {
      "cell_type": "code",
      "execution_count": null,
      "metadata": {
        "id": "n5ShBnB5PHO0",
        "outputId": "faf6cd71-e753-489b-85fe-dd1219dc5cc3"
      },
      "outputs": [
        {
          "name": "stdout",
          "output_type": "stream",
          "text": [
            "foo(1,'hello')\n"
          ]
        }
      ],
      "source": [
        "# Test\n",
        "print(repr(foo(1,\"hello\")))"
      ]
    },
    {
      "cell_type": "code",
      "execution_count": null,
      "metadata": {
        "id": "jYO5Fh-xPHO1"
      },
      "outputs": [],
      "source": [
        "# Create an object and save it\n",
        "ff=foo(1,\"hello\")\n",
        "ff.save(\"Test.foo\")"
      ]
    },
    {
      "cell_type": "code",
      "execution_count": null,
      "metadata": {
        "id": "54cSE0NyPHO1",
        "outputId": "445d2e52-d535-4216-e796-520a530df0ef"
      },
      "outputs": [
        {
          "name": "stdout",
          "output_type": "stream",
          "text": [
            "foo(1,'hello')"
          ]
        }
      ],
      "source": [
        "# Check contents of the saved file\n",
        "!cat Test.foo"
      ]
    },
    {
      "cell_type": "code",
      "execution_count": null,
      "metadata": {
        "id": "lIjYcYHSPHO1",
        "outputId": "c5dbf4b5-f5d5-4480-8b4e-7c980b2983ca"
      },
      "outputs": [
        {
          "data": {
            "text/plain": [
              "foo(1,'hello')"
            ]
          },
          "execution_count": 5,
          "metadata": {},
          "output_type": "execute_result"
        }
      ],
      "source": [
        "# Load the object\n",
        "ff_reloaded=foo_loader(\"Test.foo\")\n",
        "ff_reloaded"
      ]
    }
  ],
  "metadata": {
    "kernelspec": {
      "display_name": "Python 3 (ipykernel)",
      "language": "python",
      "name": "python3"
    },
    "language_info": {
      "codemirror_mode": {
        "name": "ipython",
        "version": 3
      },
      "file_extension": ".py",
      "mimetype": "text/x-python",
      "name": "python",
      "nbconvert_exporter": "python",
      "pygments_lexer": "ipython3",
      "version": "3.9.6"
    },
    "colab": {
      "provenance": []
    }
  },
  "nbformat": 4,
  "nbformat_minor": 0
}