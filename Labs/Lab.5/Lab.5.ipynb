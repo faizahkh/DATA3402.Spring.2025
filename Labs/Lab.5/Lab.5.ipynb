{
 "cells": [
  {
   "cell_type": "markdown",
   "metadata": {},
   "source": [
    "# Lab 5\n"
   ]
  },
  {
   "cell_type": "markdown",
   "metadata": {},
   "source": [
    "Matrix Representation: In this lab you will be creating a simple linear algebra system. In memory, we will represent matrices as nested python lists as we have done in lecture. In the exercises below, you are required to explicitly test every feature you implement, demonstrating it works.\n",
    "\n",
    "1. Create a `matrix` class with the following properties:\n",
    "    * It can be initialized in 2 ways:\n",
    "        1. with arguments `n` and `m`, the size of the matrix. A newly instanciated matrix will contain all zeros.\n",
    "        2. with a list of lists of values. Note that since we are using lists of lists to implement matrices, it is possible that not all rows have the same number of columns. Test explicitly that the matrix is properly specified.\n",
    "    * Matrix instances `M` can be indexed with `M[i][j]` and `M[i,j]`.\n",
    "    * Matrix assignment works in 2 ways:\n",
    "        1. If `M_1` and `M_2` are `matrix` instances `M_1=M_2` sets the values of `M_1` to those of `M_2`, if they are the same size. Error otherwise.\n",
    "        2. In example above `M_2` can be a list of lists of correct size.\n"
   ]
  },
  {
   "cell_type": "markdown",
   "metadata": {},
   "source": [
    "2. Add the following methods:\n",
    "    * `shape()`: returns a tuple `(n,m)` of the shape of the matrix.\n",
    "    * `transpose()`: returns a new matrix instance which is the transpose of the matrix.\n",
    "    * `row(n)` and `column(n)`: that return the nth row or column of the matrix M as a new appropriately shaped matrix object.\n",
    "    * `to_list()`: which returns the matrix as a list of lists.\n",
    "    *  `block(n_0,n_1,m_0,m_1)` that returns a smaller matrix located at the n_0 to n_1 columns and m_0 to m_1 rows. \n",
    "    * (Extra credit) Modify `__getitem__` implemented above to support slicing.\n",
    "        "
   ]
  },
  {
   "cell_type": "markdown",
   "metadata": {},
   "source": [
    "3. Write functions that create special matrices (note these are standalone functions, not member functions of your `matrix` class):\n",
    "    * `constant(n,m,c)`: returns a `n` by `m` matrix filled with floats of value `c`.\n",
    "    * `zeros(n,m)` and `ones(n,m)`: return `n` by `m` matrices filled with floats of value `0` and `1`, respectively.\n",
    "    * `eye(n)`: returns the n by n identity matrix."
   ]
  },
  {
   "cell_type": "markdown",
   "metadata": {},
   "source": [
    "4. Add the following member functions to your class. Make sure to appropriately test the dimensions of the matrices to make sure the operations are correct.\n",
    "    * `M.scalarmul(c)`: a matrix that is scalar product $cM$, where every element of $M$ is multiplied by $c$.\n",
    "    * `M.add(N)`: adds two matrices $M$ and $N$. Don’t forget to test that the sizes of the matrices are compatible for this and all other operations.\n",
    "    * `M.sub(N)`: subtracts two matrices $M$ and $N$.\n",
    "    * `M.mat_mult(N)`: returns a matrix that is the matrix product of two matrices $M$ and $N$.\n",
    "    * `M.element_mult(N)`: returns a matrix that is the element-wise product of two matrices $M$ and $N$.\n",
    "    * `M.equals(N)`: returns true/false if $M==N$."
   ]
  },
  {
   "cell_type": "markdown",
   "metadata": {},
   "source": [
    "5. Overload python operators to appropriately use your functions in 4 and allow expressions like:\n",
    "    * 2*M\n",
    "    * M*2\n",
    "    * M+N\n",
    "    * M-N\n",
    "    * M*N\n",
    "    * M==N\n",
    "    * M=N\n"
   ]
  },
  {
   "cell_type": "markdown",
   "metadata": {},
   "source": [
    "6. Demonstrate the basic properties of matrices with your matrix class by creating two 2 by 2 example matrices using your Matrix class and illustrating the following:\n",
    "\n",
    "$$\n",
    "(AB)C=A(BC)\n",
    "$$\n",
    "$$\n",
    "A(B+C)=AB+AC\n",
    "$$\n",
    "$$\n",
    "AB\\neq BA\n",
    "$$\n",
    "$$\n",
    "AI=A\n",
    "$$"
   ]
  },
  {
   "cell_type": "code",
   "execution_count": 1,
   "metadata": {},
   "outputs": [
    {
     "name": "stdout",
     "output_type": "stream",
     "text": [
      "(ab)c == a(bc): True\n",
      "a(b+c) == ab + ac: True\n",
      "ab != ba: True\n",
      "ad == a: True\n"
     ]
    }
   ],
   "source": [
    "from copy import deepcopy\n",
    "\n",
    "class Matrix:\n",
    "    def __init__(self, n, m=None):\n",
    "        if isinstance(n, list):\n",
    "            if not all(isinstance(row, list) for row in n):\n",
    "                raise ValueError(\"matrix has to be a list of lists\")\n",
    "            row_lengths = [len(row) for row in n]\n",
    "            if len(set(row_lengths)) != 1:\n",
    "                raise ValueError(\"full rows must have the same # of col\")\n",
    "            self.data = deepcopy(n)\n",
    "        else:\n",
    "            self.data = [[0.0 for _ in range(m)] for _ in range(n)]\n",
    "\n",
    "    def __getitem__(self, idx):\n",
    "        if isinstance(idx, tuple):\n",
    "            i, j = idx\n",
    "            return self.data[i][j]\n",
    "        return self.data[idx]\n",
    "\n",
    "    def __setitem__(self, idx, value):\n",
    "        if isinstance(idx, tuple):\n",
    "            i, j = idx\n",
    "            self.data[i][j] = value\n",
    "        else:\n",
    "            self.data[idx] = value\n",
    "\n",
    "    def shape(self):\n",
    "        return len(self.data), len(self.data[0])\n",
    "\n",
    "    def transpose(self):\n",
    "        rows, cols = self.shape()\n",
    "        return Matrix([[self.data[i][j] for i in range(rows)] for j in range(cols)])\n",
    "\n",
    "    def row(self, n):\n",
    "        return Matrix([self.data[n]])\n",
    "\n",
    "    def column(self, n):\n",
    "        return Matrix([[self.data[i][n]] for i in range(self.shape()[0])])\n",
    "\n",
    "    def to_list(self):\n",
    "        return deepcopy(self.data)\n",
    "\n",
    "    def block(self, n0, n1, m0, m1):\n",
    "        return Matrix([row[m0:m1] for row in self.data[n0:n1]])\n",
    "\n",
    "    def scalarmul(self, c):\n",
    "        return Matrix([[x * c for x in row] for row in self.data])\n",
    "\n",
    "    def add(self, other):\n",
    "        if self.shape() != other.shape():\n",
    "            raise ValueError(\"dimension doesnt agree\")\n",
    "        return Matrix([[self.data[i][j] + other.data[i][j] for j in range(self.shape()[1])] for i in range(self.shape()[0])])\n",
    "\n",
    "    def sub(self, other):\n",
    "        if self.shape() != other.shape():\n",
    "            raise ValueError(\"dimension need to agree in thi one\")\n",
    "        return Matrix([[self.data[i][j] - other.data[i][j] for j in range(self.shape()[1])] for i in range(self.shape()[0])])\n",
    "\n",
    "    def mat_mult(self, other):\n",
    "        if self.shape()[1] != other.shape()[0]:\n",
    "            raise ValueError(\"shape does not align for multiplying\")\n",
    "        result = Matrix(self.shape()[0], other.shape()[1])\n",
    "        for i in range(self.shape()[0]):\n",
    "            for j in range(other.shape()[1]):\n",
    "                result[i, j] = sum(self.data[i][k] * other.data[k][j] for k in range(self.shape()[1]))\n",
    "        return result\n",
    "\n",
    "    def element_mult(self, other):\n",
    "        if self.shape() != other.shape():\n",
    "            raise ValueError(\"the dimensions need to agree on this\")\n",
    "        return Matrix([[self.data[i][j] * other.data[i][j] for j in range(self.shape()[1])] for i in range(self.shape()[0])])\n",
    "\n",
    "    def equals(self, other):\n",
    "        return self.data == other.data\n",
    "\n",
    "    def __eq__(self, other):\n",
    "        return self.equals(other)\n",
    "\n",
    "    def __add__(self, other):\n",
    "        return self.add(other)\n",
    "\n",
    "    def __sub__(self, other):\n",
    "        return self.sub(other)\n",
    "\n",
    "    def __mul__(self, other):\n",
    "        if isinstance(other, (int, float)):\n",
    "            return self.scalarmul(other)\n",
    "        return self.mat_mult(other)\n",
    "\n",
    "    def __rmul__(self, other):\n",
    "        return self * other\n",
    "\n",
    "def constant(n, m, c):\n",
    "    return Matrix([[float(c) for _ in range(m)] for _ in range(n)])\n",
    "\n",
    "def zeros(n, m):\n",
    "    return constant(n, m, 0)\n",
    "\n",
    "def ones(n, m):\n",
    "    return constant(n, m, 1)\n",
    "\n",
    "def eye(n):\n",
    "    return Matrix([[1.0 if i == j else 0.0 for j in range(n)] for i in range(n)])\n",
    "\n",
    "\n",
    "# THE TESTING OF THE CODE \n",
    "a = Matrix([[1, 2], [3, 4]])\n",
    "b = Matrix([[2, 0], [1, 2]])\n",
    "c = Matrix([[0, 1], [4, 3]])\n",
    "d = eye(2)\n",
    "\n",
    "print(\"(ab)c == a(bc):\", (a * b) * c == a * (b * c))\n",
    "print(\"a(b+c) == ab + ac:\", a * (b + c) == (a * b + a * c))\n",
    "print(\"ab != ba:\", a * b != b * a)\n",
    "print(\"ad == a:\", a * d == a)\n"
   ]
  }
 ],
 "metadata": {
  "kernelspec": {
   "display_name": "Python 3 (ipykernel)",
   "language": "python",
   "name": "python3"
  },
  "language_info": {
   "codemirror_mode": {
    "name": "ipython",
    "version": 3
   },
   "file_extension": ".py",
   "mimetype": "text/x-python",
   "name": "python",
   "nbconvert_exporter": "python",
   "pygments_lexer": "ipython3",
   "version": "3.12.3"
  }
 },
 "nbformat": 4,
 "nbformat_minor": 2
}
